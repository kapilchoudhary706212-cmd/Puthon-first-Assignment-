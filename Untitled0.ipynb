{
  "nbformat": 4,
  "nbformat_minor": 0,
  "metadata": {
    "colab": {
      "provenance": []
    },
    "kernelspec": {
      "name": "python3",
      "display_name": "Python 3"
    },
    "language_info": {
      "name": "python"
    }
  },
  "cells": [
    {
      "cell_type": "code",
      "execution_count": null,
      "metadata": {
        "id": "faOPbJ73yvtB"
      },
      "outputs": [],
      "source": []
    },
    {
      "cell_type": "markdown",
      "source": [
        "Q1.  What is Python, and why is it popular?\n",
        "\n",
        "ans:- python is high-level languag developed by gudio van Rossun in the year of 1991 it is ease for readability and write . and it is popular for web dovelopement , data science and machin learing due to simple synteax and libaries and strog community support.\n",
        "\n",
        "Q2.  What is an interpreter in Python ?\n",
        "\n",
        "Ans:- Interpreter are the computer programing that will covert to source code High-level languag into intermediate code(machine level language) it is also called translator in programing terminology.\n",
        "\n",
        "Q3.  What are pre-defined keywords in Python ?\n",
        "\n",
        "Ans:- pre-defined keyword in python are reserved words theat have special meaning and functionalities with in the language.\n",
        "Ex:- # if , if else, if elif else\n",
        "     # for loops and while loops\n",
        "     # operatiors\n",
        "     # error handling are the pre defined keywors in python\n",
        "\n",
        "Q4. Can Keyword be used an variabls name ?\n",
        "\n",
        "Ans:- # value keywords - true, false ,name\n",
        "      # operator keywords - and, or, not is, in\n",
        "      # control keywords - If , else, elif,for,while\n",
        "      # function and class- return, dif,lambda,class\n",
        "      # import and module- import,from\n",
        "\n",
        "Q5. What is mutability in pythone\n",
        "\n",
        "Ans:- In python mutability refers to the ability of an object to be modified agter it has been created.\n",
        "Ex:- common mutable data type in Python\n",
        "     . list\n",
        "     . dict\n",
        "     . set\n",
        "\n",
        "Q6. why are list mutable , but tuples are immutables\n",
        "\n",
        "Ans:- Tuples and list are the same in every way but tuples use parentheses instead of square bracket and the item in tuples cannot be changed but items in list can be changed . call list mutable ( meaning they can be changed) and tuples immutables (meaning they can not be changed).\n",
        "\n",
        "Q7. What is the difference between \"==\" and \"is\" operators in pythone ?\n",
        "\n",
        "Ans:- In python \"==\" and is operators are both usedd for comparison but they seave different purposes the == operator checks for equality of value which means it evaluates whether the values two object are the same on the other hand is operator check for identy meening determines whether two variables point to the same object in memory.\n",
        "\n",
        "Q8. What is logical operotors in Pythone ?\n",
        "\n",
        "Ans:- Logical operators in Pythons are used to combine conditional statements and evaluate expressions the result in a boolean value (true and false)\n",
        "\n",
        "Ex:- and ,Or, Not, is a logical operators\n",
        "\n",
        "Q9. What is type casting in python ?\n",
        "\n",
        "Ans:- Type casting is the method to convert the python varible data type into a certain data type in order to perform the required opration by user.\n",
        "Ex:- int(), str(), flot(), bool()\n",
        "\n",
        "Q10. What is the difference between implicit and explicit type casting ?\n",
        "\n",
        "Ans:- Implicit and explicit type casting also know as type cover-sion are methods of changing a variable data type Implicit casting or widening happens automaticallly when a smaller data type to a larag one without the pro-grammer heeding to specify it.\n",
        "      Explicit type casting or requires the programmer to explicity state the desired data type coversion which may involve potential data loss.\n",
        "\n",
        "Q11. What is the purpose of conditional statments in Python ?\n",
        "\n",
        "Ans:- Conditional Statement in Python are used to exeute certain block of code based on specific conditions these statement helps control the flow of a program making it behave differently in defferent siluations.\n",
        "\n",
        "Conditional statment :- if conditional:\n",
        "                           ture\n",
        "                      # if conditional:\n",
        "                           true\n",
        "                        else:\n",
        "                          fales\n",
        "                    # if conditional:\n",
        "                        true\n",
        "                      elif conditional:\n",
        "                        true\n",
        "                      else:\n",
        "                        fales\n",
        "\n",
        "Q12. How does the elif statement work ?\n",
        "\n",
        "Ans:- The elif statement in python short for else if alloues for the evaluation of multiple conditions in a sequential number it is always used in conjunction with an if statement and can be followed by an optional else statement.\n",
        "\n",
        "Ex:- score = 85\n",
        "\n",
        "      if score>90:\n",
        "        print(\"grade A\")\n",
        "      elif score>=80:\n",
        "        print(\"grade b\")\n",
        "      else:\n",
        "         print (\"grade c\")\n",
        "\n",
        "Q13. What is difference between for and while loops ?\n",
        "\n",
        "Ans: For loop:- . for loop is used to iterate over a sequence a time\n",
        "                . for loop are desigend for iterateing sequence of item-list etc\n",
        "                . for loop is typicaley uesd for iterating over fixed sequence of items\n",
        "    While loop :- 1 While loops is use to repeat exeute a block of statment uhile a condition a true\n",
        "                  2 while loop used the number of iterations is not know in advance or when use want repet of code.\n",
        "                  3 While loops is used for more complex control flow situations\n",
        "\n",
        "Q14.  Describe a scenario where a while loop is more suitable than a for loop ?\n",
        "\n",
        "Ans:- A while loops is more suitable than a for loop in python when the number of iterations is not know in advance and the loops continuation depends on a sepecific condition being met or become fals.\n",
        "       The program cannot pedict now many attempts the user will need to enter\n",
        "Valid input for loop which typically iterates over a know sequence or a defined range would be inappropriate here.\n",
        "\n"
      ],
      "metadata": {
        "id": "PgkCV3b5yxsO"
      }
    },
    {
      "cell_type": "code",
      "source": [
        "# Q1  Write a Python program to print \"Hello, World\n",
        "print(\"Hello world\")"
      ],
      "metadata": {
        "colab": {
          "base_uri": "https://localhost:8080/"
        },
        "id": "7frNUUo8CQKo",
        "outputId": "d0064623-e77a-47ae-8840-7722f3cb4e3f"
      },
      "execution_count": null,
      "outputs": [
        {
          "output_type": "stream",
          "name": "stdout",
          "text": [
            "Hello world\n"
          ]
        }
      ]
    },
    {
      "cell_type": "code",
      "source": [
        "# Q2  Write a Python program that displays your name and age\n",
        "name = \"kapil\"\n",
        "age = 26\n",
        "print(f\"your name is {name} and your age is {age}\")"
      ],
      "metadata": {
        "colab": {
          "base_uri": "https://localhost:8080/"
        },
        "id": "XkTlqL2BCiTM",
        "outputId": "fde356f9-e616-404b-ac74-c2fa50bbcb35"
      },
      "execution_count": null,
      "outputs": [
        {
          "output_type": "stream",
          "name": "stdout",
          "text": [
            "your name is kapil and your age is 26\n"
          ]
        }
      ]
    },
    {
      "cell_type": "code",
      "source": [
        "# Q3.  Write code to print all the pre-defined keywords in Python using the keyword library\n",
        "import keyword\n",
        "print(keyword.kwlist)"
      ],
      "metadata": {
        "colab": {
          "base_uri": "https://localhost:8080/"
        },
        "id": "JsG4f-ZfDlmY",
        "outputId": "b7b4e86a-1989-460b-87d8-81311ab2331b"
      },
      "execution_count": null,
      "outputs": [
        {
          "output_type": "stream",
          "name": "stdout",
          "text": [
            "['False', 'None', 'True', 'and', 'as', 'assert', 'async', 'await', 'break', 'class', 'continue', 'def', 'del', 'elif', 'else', 'except', 'finally', 'for', 'from', 'global', 'if', 'import', 'in', 'is', 'lambda', 'nonlocal', 'not', 'or', 'pass', 'raise', 'return', 'try', 'while', 'with', 'yield']\n"
          ]
        }
      ]
    },
    {
      "cell_type": "code",
      "source": [
        "# Q4  Write a program that checks if a given word is a Python keyword.\n",
        "import keyword\n",
        "\n",
        "word = input(\"Enter a word: \")\n",
        "\n",
        "if keyword.iskeyword(word):\n",
        "  print(f\"'{word}' is a Python keyword.\")\n",
        "else:\n",
        "  print(f\"'{word}' is not a Python keyword.\")"
      ],
      "metadata": {
        "colab": {
          "base_uri": "https://localhost:8080/"
        },
        "id": "dvWF8HULGzOK",
        "outputId": "cbac8f02-a998-4a61-b6f2-e32af0bbf476"
      },
      "execution_count": null,
      "outputs": [
        {
          "output_type": "stream",
          "name": "stdout",
          "text": [
            "Enter a word: True\n",
            "'True' is a Python keyword.\n"
          ]
        }
      ]
    },
    {
      "cell_type": "code",
      "source": [
        "#Q5.  Create a list and tuple in Python, and demonstrate how attempting to change an element works differently\n",
        "# for each\n",
        "\n",
        "my_list = [10, 20, 30]\n",
        "my_tuple = (10, 20, 30)\n",
        "\n",
        "# Modifying an element in the list\n",
        "my_list[1] = 99  # This works because lists are mutable\n",
        "print(\"Modified List:\", my_list)\n",
        "\n",
        "# Attempting to modify an element in the tuple\n",
        "\n",
        "my_tuple[1] = 99  # This will raise a TypeError because tuples are immutable\n",
        "print(\"Error\",my_tuple)"
      ],
      "metadata": {
        "colab": {
          "base_uri": "https://localhost:8080/",
          "height": 219
        },
        "id": "BmoM25gKHUMZ",
        "outputId": "488cfefa-d19e-4af2-e36d-e43756837e83"
      },
      "execution_count": null,
      "outputs": [
        {
          "output_type": "stream",
          "name": "stdout",
          "text": [
            "Modified List: [10, 99, 30]\n"
          ]
        },
        {
          "output_type": "error",
          "ename": "TypeError",
          "evalue": "'tuple' object does not support item assignment",
          "traceback": [
            "\u001b[0;31m---------------------------------------------------------------------------\u001b[0m",
            "\u001b[0;31mTypeError\u001b[0m                                 Traceback (most recent call last)",
            "\u001b[0;32m/tmp/ipython-input-2710479817.py\u001b[0m in \u001b[0;36m<cell line: 0>\u001b[0;34m()\u001b[0m\n\u001b[1;32m     11\u001b[0m \u001b[0;31m# Attempting to modify an element in the tuple\u001b[0m\u001b[0;34m\u001b[0m\u001b[0;34m\u001b[0m\u001b[0m\n\u001b[1;32m     12\u001b[0m \u001b[0;34m\u001b[0m\u001b[0m\n\u001b[0;32m---> 13\u001b[0;31m \u001b[0mmy_tuple\u001b[0m\u001b[0;34m[\u001b[0m\u001b[0;36m1\u001b[0m\u001b[0;34m]\u001b[0m \u001b[0;34m=\u001b[0m \u001b[0;36m99\u001b[0m  \u001b[0;31m# This will raise a TypeError because tuples are immutable\u001b[0m\u001b[0;34m\u001b[0m\u001b[0;34m\u001b[0m\u001b[0m\n\u001b[0m\u001b[1;32m     14\u001b[0m \u001b[0mprint\u001b[0m\u001b[0;34m(\u001b[0m\u001b[0;34m\"Error\"\u001b[0m\u001b[0;34m,\u001b[0m\u001b[0mmy_tuple\u001b[0m\u001b[0;34m)\u001b[0m\u001b[0;34m\u001b[0m\u001b[0;34m\u001b[0m\u001b[0m\n",
            "\u001b[0;31mTypeError\u001b[0m: 'tuple' object does not support item assignment"
          ]
        }
      ]
    },
    {
      "cell_type": "code",
      "source": [
        "#Q6  Write a function to demonstrate the behavior of mutable and immutable arguments.\n",
        "\n",
        "# string are immutable\n",
        "a = \"welcome to Pythone\"\n",
        "a[2]=\"d\"\n",
        "print(a)\n",
        "\n",
        "# list are mutable\n",
        "a_list=[1,2,3]\n",
        "a_list[1]=5\n",
        "print(a_list)"
      ],
      "metadata": {
        "colab": {
          "base_uri": "https://localhost:8080/",
          "height": 219
        },
        "collapsed": true,
        "id": "xVHW_yPRKhrK",
        "outputId": "e71ef5c6-83f8-468f-9277-b257ab33ba4c"
      },
      "execution_count": null,
      "outputs": [
        {
          "output_type": "error",
          "ename": "TypeError",
          "evalue": "'str' object does not support item assignment",
          "traceback": [
            "\u001b[0;31m---------------------------------------------------------------------------\u001b[0m",
            "\u001b[0;31mTypeError\u001b[0m                                 Traceback (most recent call last)",
            "\u001b[0;32m/tmp/ipython-input-1841101989.py\u001b[0m in \u001b[0;36m<cell line: 0>\u001b[0;34m()\u001b[0m\n\u001b[1;32m      3\u001b[0m \u001b[0;31m# string are immutable\u001b[0m\u001b[0;34m\u001b[0m\u001b[0;34m\u001b[0m\u001b[0m\n\u001b[1;32m      4\u001b[0m \u001b[0ma\u001b[0m \u001b[0;34m=\u001b[0m \u001b[0;34m\"welcome to Pythone\"\u001b[0m\u001b[0;34m\u001b[0m\u001b[0;34m\u001b[0m\u001b[0m\n\u001b[0;32m----> 5\u001b[0;31m \u001b[0ma\u001b[0m\u001b[0;34m[\u001b[0m\u001b[0;36m2\u001b[0m\u001b[0;34m]\u001b[0m\u001b[0;34m=\u001b[0m\u001b[0;34m\"d\"\u001b[0m\u001b[0;34m\u001b[0m\u001b[0;34m\u001b[0m\u001b[0m\n\u001b[0m\u001b[1;32m      6\u001b[0m \u001b[0mprint\u001b[0m\u001b[0;34m(\u001b[0m\u001b[0ma\u001b[0m\u001b[0;34m)\u001b[0m\u001b[0;34m\u001b[0m\u001b[0;34m\u001b[0m\u001b[0m\n\u001b[1;32m      7\u001b[0m \u001b[0;34m\u001b[0m\u001b[0m\n",
            "\u001b[0;31mTypeError\u001b[0m: 'str' object does not support item assignment"
          ]
        }
      ]
    },
    {
      "cell_type": "code",
      "source": [
        "#Q7 Write a program that performs basic arithmetic operations on two user-input numbers.\n",
        "\n",
        "number1= input(\"enter first number\")\n",
        "number2= input(\"enter second number\")\n",
        "result= int(number1)+int(number2)\n",
        "print(result)"
      ],
      "metadata": {
        "id": "T8iPn3jcMF_D"
      },
      "execution_count": null,
      "outputs": []
    },
    {
      "cell_type": "code",
      "source": [
        "#Q8  Write a program to demonstrate the use of logical operators\n",
        "\n",
        "a = 10\n",
        "b = 12\n",
        "c = 0\n",
        "if a or b or c:\n",
        "    print(\"Atleast one number has boolean value as True\")\n",
        "else:\n",
        "    print(\"All the numbers have boolean value as False\")"
      ],
      "metadata": {
        "id": "K2jWhxE9Mdon"
      },
      "execution_count": null,
      "outputs": []
    },
    {
      "cell_type": "code",
      "source": [
        "#Q9  Write a Python program to convert user input from string to integer, float, and boolean types.\n",
        "\n",
        "a=\"123\"\n",
        "b= int(a)\n",
        "c= 123\n",
        "d=str(c)\n",
        "e=bool(c)\n",
        "f=float(c)\n",
        "print(type(b))\n",
        "print(type(d))\n",
        "print(type(e))\n",
        "print(type(f))\n",
        "\n"
      ],
      "metadata": {
        "colab": {
          "base_uri": "https://localhost:8080/"
        },
        "id": "J8PcjX_-NQj5",
        "outputId": "1229f130-80f4-42e9-fdc2-d279e6e9656a"
      },
      "execution_count": null,
      "outputs": [
        {
          "output_type": "stream",
          "name": "stdout",
          "text": [
            "<class 'int'>\n",
            "<class 'str'>\n",
            "<class 'bool'>\n",
            "<class 'float'>\n"
          ]
        }
      ]
    },
    {
      "cell_type": "code",
      "source": [
        "#Q10  Write code to demonstrate type casting with list elements.\n",
        "a = [1, 4, 9, 10, 19]\n",
        "b = [[5, 6, 8], [8, 5, 3], [9, 10, 3]]\n",
        "\n",
        "c = [str(x) for x in a]\n",
        "d = [[str(x) for x in sub] for sub in b]\n",
        "\n",
        "print(c)\n",
        "print(d)"
      ],
      "metadata": {
        "colab": {
          "base_uri": "https://localhost:8080/"
        },
        "id": "Vim879pbOUo3",
        "outputId": "4d21f793-d61c-4a7d-c85a-700f8d344337"
      },
      "execution_count": null,
      "outputs": [
        {
          "output_type": "stream",
          "name": "stdout",
          "text": [
            "['1', '4', '9', '10', '19']\n",
            "[['5', '6', '8'], ['8', '5', '3'], ['9', '10', '3']]\n"
          ]
        }
      ]
    },
    {
      "cell_type": "code",
      "source": [
        "#Q11 Write a program that checks if a number is positive, negative, or zero.\n",
        "\n",
        "number= input(\"enter a number\")\n",
        "if number>=1:\n",
        "  print(\"number is positive\")\n",
        "elif number==0:\n",
        "  print(\"number is zero\")\n",
        "elif number<0:\n",
        "  print(\"number is negative\")\n",
        "else:\n",
        "  print(\"invalid input\")"
      ],
      "metadata": {
        "id": "50I1-3DbPl5e"
      },
      "execution_count": null,
      "outputs": []
    },
    {
      "cell_type": "code",
      "source": [
        "# Q12  Write a for loop to print numbers from 1 to 10.\n",
        "\n",
        "for i in range(0,101):\n",
        "  print(i)"
      ],
      "metadata": {
        "colab": {
          "base_uri": "https://localhost:8080/"
        },
        "collapsed": true,
        "id": "XmmR4kOGQTxL",
        "outputId": "5614f210-4f64-466e-d102-a4238378a664"
      },
      "execution_count": null,
      "outputs": [
        {
          "output_type": "stream",
          "name": "stdout",
          "text": [
            "0\n",
            "1\n",
            "2\n",
            "3\n",
            "4\n",
            "5\n",
            "6\n",
            "7\n",
            "8\n",
            "9\n",
            "10\n",
            "11\n",
            "12\n",
            "13\n",
            "14\n",
            "15\n",
            "16\n",
            "17\n",
            "18\n",
            "19\n",
            "20\n",
            "21\n",
            "22\n",
            "23\n",
            "24\n",
            "25\n",
            "26\n",
            "27\n",
            "28\n",
            "29\n",
            "30\n",
            "31\n",
            "32\n",
            "33\n",
            "34\n",
            "35\n",
            "36\n",
            "37\n",
            "38\n",
            "39\n",
            "40\n",
            "41\n",
            "42\n",
            "43\n",
            "44\n",
            "45\n",
            "46\n",
            "47\n",
            "48\n",
            "49\n",
            "50\n",
            "51\n",
            "52\n",
            "53\n",
            "54\n",
            "55\n",
            "56\n",
            "57\n",
            "58\n",
            "59\n",
            "60\n",
            "61\n",
            "62\n",
            "63\n",
            "64\n",
            "65\n",
            "66\n",
            "67\n",
            "68\n",
            "69\n",
            "70\n",
            "71\n",
            "72\n",
            "73\n",
            "74\n",
            "75\n",
            "76\n",
            "77\n",
            "78\n",
            "79\n",
            "80\n",
            "81\n",
            "82\n",
            "83\n",
            "84\n",
            "85\n",
            "86\n",
            "87\n",
            "88\n",
            "89\n",
            "90\n",
            "91\n",
            "92\n",
            "93\n",
            "94\n",
            "95\n",
            "96\n",
            "97\n",
            "98\n",
            "99\n",
            "100\n"
          ]
        }
      ]
    },
    {
      "cell_type": "code",
      "source": [
        "#Q13  Write a Python program to find the sum of all even numbers between 1 and 50\n",
        "sum_even = 0\n",
        "for num in range(2, 51, 2):  # Start from 2, go up to 50, step by 2\n",
        "    sum_even += num\n",
        "print(\"Sum of even numbers between 1 and 50:\", sum_even)"
      ],
      "metadata": {
        "colab": {
          "base_uri": "https://localhost:8080/"
        },
        "id": "w9fqWReoRPaA",
        "outputId": "0c8086fe-27a3-41f5-e697-a40da4f1d690"
      },
      "execution_count": null,
      "outputs": [
        {
          "output_type": "stream",
          "name": "stdout",
          "text": [
            "Sum of even numbers between 1 and 50: 650\n"
          ]
        }
      ]
    },
    {
      "cell_type": "code",
      "source": [
        "# Q14  Write a program to reverse a string using a while loop"
      ],
      "metadata": {
        "id": "MA9YmogxSBzI"
      },
      "execution_count": null,
      "outputs": []
    },
    {
      "cell_type": "code",
      "source": [
        "# Q15 . Write a Python program to calculate the factorial of a number provided by the user using a while loop.\n",
        "\n",
        "num = int(input(\"Enter a non-negative integer: \"))\n",
        "\n",
        "if num < 0:\n",
        "   print(\"Factorial does not exist for negative numbers\")\n",
        "elif num == 0:\n",
        "   print(\"The factorial of 0 is 1\")\n",
        "else:\n",
        "   factorial = 1\n",
        "   i = 1\n",
        "   while i <= num:\n",
        "       factorial = factorial * i\n",
        "       i = i + 1\n",
        "   print(\"The factorial of\", num, \"is\", factorial)"
      ],
      "metadata": {
        "colab": {
          "base_uri": "https://localhost:8080/"
        },
        "id": "vEypfTukSg2L",
        "outputId": "958184c7-fa6d-4c88-de36-2f3e156ba465"
      },
      "execution_count": null,
      "outputs": [
        {
          "output_type": "stream",
          "name": "stdout",
          "text": [
            "Enter a non-negative integer: 4\n",
            "The factorial of 4 is 24\n"
          ]
        }
      ]
    }
  ]
}